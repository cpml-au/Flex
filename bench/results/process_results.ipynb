{
 "cells": [
  {
   "cell_type": "code",
   "execution_count": 816,
   "metadata": {},
   "outputs": [],
   "source": [
    "import pandas as pd\n",
    "import os\n",
    "import glob\n",
    "import numpy as np"
   ]
  },
  {
   "cell_type": "code",
   "execution_count": 817,
   "metadata": {},
   "outputs": [
    {
     "name": "stdout",
     "output_type": "stream",
     "text": [
      "['678_visualizing_environmental.csv', '687_sleuth_ex1605.csv', '659_sleuth_ex1714.csv', '561_cpu.csv', '529_pollen.csv', 'alpinegp-blackbox_results.csv', '503_wind.csv', '1029_LEV.csv', '522_pm10.csv', '542_pollution.csv', '1027_ESL.csv', '1028_SWD.csv', '695_chatfield_4.csv', '225_puma8NH.csv', '227_cpu_small.csv', '229_pwLinear.csv', '712_chscase_geyser1.csv', '547_no2.csv', '1096_FacultySalaries.csv', '666_rmftsa_ladata.csv', '192_vineyard.csv', '519_vinnie.csv', '527_analcatdata_election2000.csv', '706_sleuth_case1202.csv', '523_analcatdata_neavote.csv', '560_bodyfat.csv', '1030_ERA.csv', '485_analcatdata_vehicle.csv', '505_tecator.csv', '556_analcatdata_apnea2.csv', '690_visualizing_galaxy.csv', '663_rabe_266.csv', '557_analcatdata_apnea1.csv', '197_cpu_act.csv', '665_sleuth_case2002.csv', '210_cloud.csv', '1089_USCrime.csv', '230_machine_cpu.csv', '228_elusage.csv']\n",
      "39\n"
     ]
    }
   ],
   "source": [
    "extension = 'csv'\n",
    "result_files = glob.glob('*.{}'.format(extension))\n",
    "print(result_files)\n",
    "print(len(result_files))"
   ]
  },
  {
   "cell_type": "code",
   "execution_count": 818,
   "metadata": {},
   "outputs": [],
   "source": [
    "r2_tests= []\n",
    "aggregated_results = pd.DataFrame()\n",
    "# combine all the results files into one dataset\n",
    "for file in result_files: \n",
    "    # skip aggregate results file\n",
    "    if \"_results\" in file:\n",
    "        continue\n",
    "    # skip Friedman datasets\n",
    "    if \"fri\" in file:\n",
    "        continue\n",
    "    data = pd.read_csv(file, sep=\";\", header=0)\n",
    "    aggregated_results = pd.concat([aggregated_results, data])\n",
    "    r2_tests.append(data[\"r2_test\"].to_numpy())\n",
    "\n",
    "# add algorithm name\n",
    "aggregated_results[\"algorithm\"] = \"AlpineGP\""
   ]
  },
  {
   "cell_type": "code",
   "execution_count": 819,
   "metadata": {},
   "outputs": [
    {
     "name": "stdout",
     "output_type": "stream",
     "text": [
      "   algorithm                        problem   r2_test\n",
      "0   AlpineGP  678_visualizing_environmental -0.234804\n",
      "1   AlpineGP  678_visualizing_environmental  0.384211\n",
      "2   AlpineGP  678_visualizing_environmental  0.200520\n",
      "3   AlpineGP  678_visualizing_environmental  0.121942\n",
      "4   AlpineGP  678_visualizing_environmental -0.371221\n",
      "..       ...                            ...       ...\n",
      "5   AlpineGP                    228_elusage  0.716071\n",
      "6   AlpineGP                    228_elusage  0.834505\n",
      "7   AlpineGP                    228_elusage  0.772651\n",
      "8   AlpineGP                    228_elusage  0.712184\n",
      "9   AlpineGP                    228_elusage  0.236847\n",
      "\n",
      "[380 rows x 3 columns]\n"
     ]
    }
   ],
   "source": [
    "print(aggregated_results[[\"algorithm\", \"problem\", \"r2_test\"]])"
   ]
  },
  {
   "cell_type": "code",
   "execution_count": 820,
   "metadata": {},
   "outputs": [],
   "source": [
    "aggregated_results = aggregated_results.rename(columns={\"r2_test\": \"r2_zero_test\", \"problem\": \"dataset\"})\n",
    "\n",
    "aggregated_results.to_csv(\"alpinegp-blackbox_results.csv\", index=False)"
   ]
  },
  {
   "cell_type": "code",
   "execution_count": 821,
   "metadata": {},
   "outputs": [
    {
     "name": "stdout",
     "output_type": "stream",
     "text": [
      "                          dataset  r2_train  r2_zero_test  r2_difference\n",
      "0               687_sleuth_ex1605  0.849301     -0.074039       0.923340\n",
      "1                   542_pollution  0.853563      0.279329       0.574234\n",
      "2                    192_vineyard  0.863953      0.380180       0.483773\n",
      "3         485_analcatdata_vehicle  0.926831      0.470830       0.456001\n",
      "4   678_visualizing_environmental  0.544766      0.193514       0.351252\n",
      "5             706_sleuth_case1202  0.864212      0.568134       0.296078\n",
      "6             665_sleuth_case2002  0.544097      0.257690       0.286407\n",
      "7               659_sleuth_ex1714  0.953942      0.702428       0.251514\n",
      "8                    1089_USCrime  0.951012      0.756442       0.194569\n",
      "9                     228_elusage  0.895345      0.714127       0.181218\n",
      "10                      210_cloud  0.935505      0.786611       0.148894\n",
      "11                       522_pm10  0.370838      0.233109       0.137729\n",
      "12                        547_no2  0.594315      0.502983       0.091332\n",
      "13                       1028_SWD  0.425505      0.343532       0.081973\n",
      "14           1096_FacultySalaries  0.967721      0.894004       0.073717\n",
      "15                230_machine_cpu  0.948970      0.879675       0.069295\n",
      "16                695_chatfield_4  0.897843      0.830825       0.067018\n",
      "17                   229_pwLinear  0.869644      0.811717       0.057926\n",
      "18            712_chscase_geyser1  0.799420      0.745605       0.053815\n",
      "19                     519_vinnie  0.760391      0.719948       0.040443\n",
      "20                        561_cpu  0.992758      0.967161       0.025596\n",
      "21                       1029_LEV  0.580859      0.560547       0.020312\n",
      "22         556_analcatdata_apnea2  0.885596      0.867148       0.018448\n",
      "23                       1030_ERA  0.390693      0.373216       0.017476\n",
      "24                     529_pollen  0.793444      0.782358       0.011086\n",
      "25        523_analcatdata_neavote  0.953523      0.943564       0.009959\n",
      "26                       1027_ESL  0.869154      0.860647       0.008507\n",
      "27              666_rmftsa_ladata  0.680417      0.672306       0.008110\n",
      "28                       503_wind  0.750899      0.745787       0.005112\n",
      "29         690_visualizing_galaxy  0.969194      0.964137       0.005057\n",
      "30                  227_cpu_small  0.947961      0.945094       0.002867\n",
      "31                    225_puma8NH  0.670164      0.667771       0.002393\n",
      "32                   663_rabe_266  0.996307      0.995115       0.001192\n",
      "33         557_analcatdata_apnea1  0.890163      0.889496       0.000667\n",
      "34                    505_tecator  0.986597      0.986026       0.000571\n",
      "35   527_analcatdata_election2000  0.999136      0.999273      -0.000137\n",
      "36                    197_cpu_act  0.944913      0.945666      -0.000754\n",
      "37                    560_bodyfat  0.988908      0.992938      -0.004030\n"
     ]
    }
   ],
   "source": [
    "# Group by problem and calculate the mean, median, and standard deviation for r2_zero_test scores\n",
    "algorithm_stats = aggregated_results.groupby(\"dataset\").agg({\"r2_train\": \"median\", \"r2_zero_test\": \"median\"}).reset_index()\n",
    "\n",
    "algorithm_stats[\"r2_difference\"] = algorithm_stats[\"r2_train\"] - algorithm_stats[\"r2_zero_test\"]\n",
    "\n",
    "# Sort algorithms by median r2_zero_test score\n",
    "algorithm_stats = algorithm_stats.sort_values(by=\"r2_difference\", ascending=False).reset_index(drop=True)\n",
    "\n",
    "print(algorithm_stats)"
   ]
  },
  {
   "cell_type": "code",
   "execution_count": 822,
   "metadata": {},
   "outputs": [
    {
     "name": "stdout",
     "output_type": "stream",
     "text": [
      "                          dataset      mean    median       std\n",
      "0    527_analcatdata_election2000  0.997727  0.999273  0.003575\n",
      "1                    663_rabe_266  0.994945  0.995115  0.001346\n",
      "2                     560_bodyfat  0.988467  0.992938  0.012163\n",
      "3                     505_tecator  0.986861  0.986026  0.003901\n",
      "4                         561_cpu  0.957349  0.967161  0.033006\n",
      "5          690_visualizing_galaxy  0.963404  0.964137  0.008677\n",
      "6                     197_cpu_act  0.943090  0.945666  0.009666\n",
      "7                   227_cpu_small  0.946096  0.945094  0.008128\n",
      "8         523_analcatdata_neavote  0.936577  0.943564  0.027836\n",
      "9            1096_FacultySalaries  0.662191  0.894004  0.525012\n",
      "10         557_analcatdata_apnea1  0.881416  0.889496  0.039704\n",
      "11                230_machine_cpu  0.778943  0.879675  0.273846\n",
      "12         556_analcatdata_apnea2  0.863157  0.867148  0.034773\n",
      "13                       1027_ESL  0.858838  0.860647  0.012759\n",
      "14                695_chatfield_4  0.827457  0.830825  0.067719\n",
      "15                   229_pwLinear  0.810944  0.811717  0.045383\n",
      "16                      210_cloud  0.761678  0.786611  0.159399\n",
      "17                     529_pollen  0.787219  0.782358  0.011886\n",
      "18                   1089_USCrime  0.739218  0.756442  0.117112\n",
      "19                       503_wind  0.747271  0.745787  0.008830\n",
      "20            712_chscase_geyser1  0.751443  0.745605  0.054979\n",
      "21                     519_vinnie  0.728873  0.719948  0.037725\n",
      "22                    228_elusage  0.621403  0.714127  0.216677\n",
      "23              659_sleuth_ex1714  0.562146  0.702428  0.309503\n",
      "24              666_rmftsa_ladata  0.679718  0.672306  0.062048\n",
      "25                    225_puma8NH  0.668540  0.667771  0.012741\n",
      "26            706_sleuth_case1202  0.418764  0.568134  0.437420\n",
      "27                       1029_LEV  0.557169  0.560547  0.033023\n",
      "28                        547_no2  0.505620  0.502983  0.092075\n",
      "29        485_analcatdata_vehicle  0.244083  0.470830  0.702171\n",
      "30                   192_vineyard  0.381856  0.380180  0.200867\n",
      "31                       1030_ERA  0.373955  0.373216  0.045362\n",
      "32                       1028_SWD  0.335559  0.343532  0.055677\n",
      "33                  542_pollution  0.170091  0.279329  0.254557\n",
      "34            665_sleuth_case2002  0.242165  0.257690  0.146767\n",
      "35                       522_pm10  0.235107  0.233109  0.044548\n",
      "36  678_visualizing_environmental  0.060402  0.193514  0.358373\n",
      "37              687_sleuth_ex1605 -0.070725 -0.074039  0.372597\n"
     ]
    }
   ],
   "source": [
    "# Group by problem and calculate the mean, median, and standard deviation for r2_zero_test scores\n",
    "algorithm_stats = aggregated_results.groupby(\"dataset\")[\"r2_zero_test\"].agg(['mean', 'median', 'std']).reset_index()\n",
    "\n",
    "# Sort algorithms by median r2_zero_test score\n",
    "algorithm_stats = algorithm_stats.sort_values(by=\"median\", ascending=False).reset_index(drop=True)\n",
    "\n",
    "print(algorithm_stats)"
   ]
  },
  {
   "cell_type": "code",
   "execution_count": 823,
   "metadata": {},
   "outputs": [],
   "source": [
    "r2_tests = np.concatenate(r2_tests).ravel()\n",
    "# print(r2_tests)"
   ]
  },
  {
   "cell_type": "code",
   "execution_count": 824,
   "metadata": {},
   "outputs": [
    {
     "name": "stdout",
     "output_type": "stream",
     "text": [
      "Mean test R2 =  0.6552373025589278\n"
     ]
    }
   ],
   "source": [
    "print(\"Mean test R2 = \", r2_tests.mean().item())"
   ]
  },
  {
   "cell_type": "code",
   "execution_count": 825,
   "metadata": {},
   "outputs": [
    {
     "data": {
      "text/plain": [
       "0.3487136233938222"
      ]
     },
     "execution_count": 825,
     "metadata": {},
     "output_type": "execute_result"
    }
   ],
   "source": [
    "r2_tests.std().item()"
   ]
  },
  {
   "cell_type": "code",
   "execution_count": 826,
   "metadata": {},
   "outputs": [
    {
     "name": "stdout",
     "output_type": "stream",
     "text": [
      "Median test R2 =  0.7683394391975586\n"
     ]
    }
   ],
   "source": [
    "print(\"Median test R2 = \", np.median(r2_tests).item())"
   ]
  },
  {
   "cell_type": "code",
   "execution_count": 828,
   "metadata": {},
   "outputs": [
    {
     "name": "stdout",
     "output_type": "stream",
     "text": [
      "| dataset                       |       mean |     median |        std |\n",
      "|:------------------------------|-----------:|-----------:|-----------:|\n",
      "| 527_analcatdata_election2000  |  0.997727  |  0.999273  | 0.00357541 |\n",
      "| 663_rabe_266                  |  0.994945  |  0.995115  | 0.00134602 |\n",
      "| 560_bodyfat                   |  0.988467  |  0.992938  | 0.0121634  |\n",
      "| 505_tecator                   |  0.986861  |  0.986026  | 0.0039009  |\n",
      "| 561_cpu                       |  0.957349  |  0.967161  | 0.0330056  |\n",
      "| 690_visualizing_galaxy        |  0.963404  |  0.964137  | 0.00867664 |\n",
      "| 197_cpu_act                   |  0.94309   |  0.945666  | 0.00966613 |\n",
      "| 227_cpu_small                 |  0.946096  |  0.945094  | 0.00812824 |\n",
      "| 523_analcatdata_neavote       |  0.936577  |  0.943564  | 0.0278365  |\n",
      "| 1096_FacultySalaries          |  0.662191  |  0.894004  | 0.525012   |\n",
      "| 557_analcatdata_apnea1        |  0.881416  |  0.889496  | 0.0397044  |\n",
      "| 230_machine_cpu               |  0.778943  |  0.879675  | 0.273846   |\n",
      "| 556_analcatdata_apnea2        |  0.863157  |  0.867148  | 0.0347729  |\n",
      "| 1027_ESL                      |  0.858838  |  0.860647  | 0.0127587  |\n",
      "| 695_chatfield_4               |  0.827457  |  0.830825  | 0.0677194  |\n",
      "| 229_pwLinear                  |  0.810944  |  0.811717  | 0.0453826  |\n",
      "| 210_cloud                     |  0.761678  |  0.786611  | 0.159399   |\n",
      "| 529_pollen                    |  0.787219  |  0.782358  | 0.0118861  |\n",
      "| 1089_USCrime                  |  0.739218  |  0.756442  | 0.117112   |\n",
      "| 503_wind                      |  0.747271  |  0.745787  | 0.0088297  |\n",
      "| 712_chscase_geyser1           |  0.751443  |  0.745605  | 0.0549794  |\n",
      "| 519_vinnie                    |  0.728873  |  0.719948  | 0.0377254  |\n",
      "| 228_elusage                   |  0.621403  |  0.714127  | 0.216677   |\n",
      "| 659_sleuth_ex1714             |  0.562146  |  0.702428  | 0.309503   |\n",
      "| 666_rmftsa_ladata             |  0.679718  |  0.672306  | 0.0620477  |\n",
      "| 225_puma8NH                   |  0.66854   |  0.667771  | 0.0127414  |\n",
      "| 706_sleuth_case1202           |  0.418764  |  0.568134  | 0.43742    |\n",
      "| 1029_LEV                      |  0.557169  |  0.560547  | 0.0330229  |\n",
      "| 547_no2                       |  0.50562   |  0.502983  | 0.0920748  |\n",
      "| 485_analcatdata_vehicle       |  0.244083  |  0.47083   | 0.702171   |\n",
      "| 192_vineyard                  |  0.381856  |  0.38018   | 0.200867   |\n",
      "| 1030_ERA                      |  0.373955  |  0.373216  | 0.0453621  |\n",
      "| 1028_SWD                      |  0.335559  |  0.343532  | 0.0556771  |\n",
      "| 542_pollution                 |  0.170091  |  0.279329  | 0.254557   |\n",
      "| 665_sleuth_case2002           |  0.242165  |  0.25769   | 0.146767   |\n",
      "| 522_pm10                      |  0.235107  |  0.233109  | 0.0445476  |\n",
      "| 678_visualizing_environmental |  0.0604016 |  0.193514  | 0.358373   |\n",
      "| 687_sleuth_ex1605             | -0.0707247 | -0.0740387 | 0.372597   |\n"
     ]
    }
   ],
   "source": [
    "# Convert the DataFrame to Markdown\n",
    "markdown_table = algorithm_stats.to_markdown(index=False)\n",
    "\n",
    "# Print the Markdown table\n",
    "print(markdown_table)\n",
    "\n",
    "# Save the Markdown table to a file\n",
    "with open('table.md', 'w') as file:\n",
    "    file.write(markdown_table)\n"
   ]
  },
  {
   "cell_type": "code",
   "execution_count": null,
   "metadata": {},
   "outputs": [],
   "source": []
  }
 ],
 "metadata": {
  "kernelspec": {
   "display_name": "alpine",
   "language": "python",
   "name": "python3"
  },
  "language_info": {
   "codemirror_mode": {
    "name": "ipython",
    "version": 3
   },
   "file_extension": ".py",
   "mimetype": "text/x-python",
   "name": "python",
   "nbconvert_exporter": "python",
   "pygments_lexer": "ipython3",
   "version": "3.12.5"
  }
 },
 "nbformat": 4,
 "nbformat_minor": 2
}
