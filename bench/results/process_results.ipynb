{
 "cells": [
  {
   "cell_type": "code",
   "execution_count": 2,
   "metadata": {},
   "outputs": [],
   "source": [
    "import pandas as pd\n",
    "import os\n",
    "import glob\n",
    "import numpy as np"
   ]
  },
  {
   "cell_type": "code",
   "execution_count": 3,
   "metadata": {},
   "outputs": [
    {
     "name": "stdout",
     "output_type": "stream",
     "text": [
      "['678_visualizing_environmental.csv', '687_sleuth_ex1605.csv', '659_sleuth_ex1714.csv', '561_cpu.csv', '529_pollen.csv', 'alpinegp-blackbox_results.csv', '503_wind.csv', '1029_LEV.csv', '522_pm10.csv', '542_pollution.csv', '1027_ESL.csv', '1028_SWD.csv', '695_chatfield_4.csv', '225_puma8NH.csv', '227_cpu_small.csv', '229_pwLinear.csv', '712_chscase_geyser1.csv', '547_no2.csv', '1096_FacultySalaries.csv', '666_rmftsa_ladata.csv', '192_vineyard.csv', '519_vinnie.csv', '527_analcatdata_election2000.csv', '706_sleuth_case1202.csv', '523_analcatdata_neavote.csv', '560_bodyfat.csv', '1030_ERA.csv', '485_analcatdata_vehicle.csv', '505_tecator.csv', '556_analcatdata_apnea2.csv', '690_visualizing_galaxy.csv', '663_rabe_266.csv', '557_analcatdata_apnea1.csv', '197_cpu_act.csv', '665_sleuth_case2002.csv', '210_cloud.csv', '1089_USCrime.csv', '230_machine_cpu.csv', '228_elusage.csv']\n",
      "39\n"
     ]
    }
   ],
   "source": [
    "extension = 'csv'\n",
    "result_files = glob.glob('*.{}'.format(extension))\n",
    "print(result_files)\n",
    "print(len(result_files))"
   ]
  },
  {
   "cell_type": "code",
   "execution_count": 4,
   "metadata": {},
   "outputs": [],
   "source": [
    "r2_tests= []\n",
    "aggregated_results = pd.DataFrame()\n",
    "# combine all the results files into one dataset\n",
    "for file in result_files: \n",
    "    # skip aggregate results file\n",
    "    if \"_results\" in file:\n",
    "        continue\n",
    "    # skip Friedman datasets\n",
    "    if \"fri\" in file:\n",
    "        continue\n",
    "    data = pd.read_csv(file, sep=\";\", header=0)\n",
    "    aggregated_results = pd.concat([aggregated_results, data])\n",
    "    r2_tests.append(data[\"r2_test\"].to_numpy())\n",
    "\n",
    "# add algorithm name\n",
    "aggregated_results[\"algorithm\"] = \"AlpineGP\""
   ]
  },
  {
   "cell_type": "code",
   "execution_count": 5,
   "metadata": {},
   "outputs": [
    {
     "name": "stdout",
     "output_type": "stream",
     "text": [
      "   algorithm                        problem   r2_test\n",
      "0   AlpineGP  678_visualizing_environmental -0.269128\n",
      "1   AlpineGP  678_visualizing_environmental  0.297113\n",
      "2   AlpineGP  678_visualizing_environmental  0.230136\n",
      "3   AlpineGP  678_visualizing_environmental  0.034309\n",
      "4   AlpineGP  678_visualizing_environmental  0.338141\n",
      "..       ...                            ...       ...\n",
      "5   AlpineGP                    228_elusage  0.716071\n",
      "6   AlpineGP                    228_elusage  0.797977\n",
      "7   AlpineGP                    228_elusage  0.754009\n",
      "8   AlpineGP                    228_elusage  0.784629\n",
      "9   AlpineGP                    228_elusage  0.201719\n",
      "\n",
      "[380 rows x 3 columns]\n"
     ]
    }
   ],
   "source": [
    "print(aggregated_results[[\"algorithm\", \"problem\", \"r2_test\"]])"
   ]
  },
  {
   "cell_type": "code",
   "execution_count": 6,
   "metadata": {},
   "outputs": [],
   "source": [
    "aggregated_results = aggregated_results.rename(columns={\"r2_test\": \"r2_zero_test\", \"problem\": \"dataset\"})\n",
    "\n",
    "aggregated_results.to_csv(\"alpinegp-blackbox_results.csv\", index=False)"
   ]
  },
  {
   "cell_type": "code",
   "execution_count": 7,
   "metadata": {},
   "outputs": [
    {
     "name": "stdout",
     "output_type": "stream",
     "text": [
      "                          dataset  r2_train  r2_zero_test  r2_difference\n",
      "0               687_sleuth_ex1605  0.859387      0.151750       0.707638\n",
      "1                    192_vineyard  0.876894      0.213078       0.663815\n",
      "2         485_analcatdata_vehicle  0.948263      0.304339       0.643924\n",
      "3                   542_pollution  0.871968      0.252399       0.619569\n",
      "4   678_visualizing_environmental  0.572854      0.111752       0.461102\n",
      "5               659_sleuth_ex1714  0.961291      0.610788       0.350504\n",
      "6             665_sleuth_case2002  0.567391      0.216995       0.350396\n",
      "7             706_sleuth_case1202  0.873983      0.572711       0.301272\n",
      "8                    1089_USCrime  0.966473      0.739885       0.226588\n",
      "9                 230_machine_cpu  0.956248      0.759371       0.196877\n",
      "10                    228_elusage  0.904176      0.721685       0.182490\n",
      "11                        547_no2  0.604419      0.446190       0.158229\n",
      "12                       522_pm10  0.382137      0.240674       0.141463\n",
      "13           1096_FacultySalaries  0.977285      0.836315       0.140971\n",
      "14                       1028_SWD  0.437824      0.339576       0.098248\n",
      "15                      210_cloud  0.940196      0.855809       0.084387\n",
      "16            712_chscase_geyser1  0.801973      0.749685       0.052288\n",
      "17                     519_vinnie  0.761336      0.713402       0.047934\n",
      "18         557_analcatdata_apnea1  0.899724      0.856020       0.043704\n",
      "19                695_chatfield_4  0.895922      0.854139       0.041783\n",
      "20                   229_pwLinear  0.898988      0.864017       0.034971\n",
      "21         556_analcatdata_apnea2  0.900431      0.867927       0.032504\n",
      "22                       1029_LEV  0.583067      0.553204       0.029863\n",
      "23              666_rmftsa_ladata  0.691882      0.663484       0.028399\n",
      "24                    560_bodyfat  0.989441      0.964600       0.024841\n",
      "25                       1027_ESL  0.872930      0.859878       0.013052\n",
      "26                       503_wind  0.765635      0.752685       0.012950\n",
      "27                        561_cpu  0.992763      0.981073       0.011690\n",
      "28                     529_pollen  0.793444      0.782358       0.011086\n",
      "29                       1030_ERA  0.392293      0.381476       0.010817\n",
      "30        523_analcatdata_neavote  0.953523      0.943564       0.009959\n",
      "31   527_analcatdata_election2000  0.998078      0.992383       0.005696\n",
      "32         690_visualizing_galaxy  0.970424      0.966614       0.003810\n",
      "33                   663_rabe_266  0.996213      0.994792       0.001421\n",
      "34                    225_puma8NH  0.676930      0.676840       0.000090\n",
      "35                    505_tecator  0.987621      0.987823      -0.000202\n",
      "36                  227_cpu_small  0.952742      0.953020      -0.000278\n",
      "37                    197_cpu_act  0.948162      0.948657      -0.000495\n"
     ]
    }
   ],
   "source": [
    "# Group by problem and calculate the mean, median, and standard deviation for r2_zero_test scores\n",
    "algorithm_stats = aggregated_results.groupby(\"dataset\").agg({\"r2_train\": \"median\", \"r2_zero_test\": \"median\"}).reset_index()\n",
    "\n",
    "algorithm_stats[\"r2_difference\"] = algorithm_stats[\"r2_train\"] - algorithm_stats[\"r2_zero_test\"]\n",
    "\n",
    "# Sort algorithms by median r2_zero_test score\n",
    "algorithm_stats = algorithm_stats.sort_values(by=\"r2_difference\", ascending=False).reset_index(drop=True)\n",
    "\n",
    "print(algorithm_stats)"
   ]
  },
  {
   "cell_type": "code",
   "execution_count": 8,
   "metadata": {},
   "outputs": [
    {
     "name": "stdout",
     "output_type": "stream",
     "text": [
      "                          dataset      mean    median       std\n",
      "0                    663_rabe_266  0.994973  0.994792  0.001387\n",
      "1    527_analcatdata_election2000  0.992298  0.992383  0.006152\n",
      "2                     505_tecator  0.985639  0.987823  0.006008\n",
      "3                         561_cpu  0.976692  0.981073  0.015743\n",
      "4          690_visualizing_galaxy  0.963990  0.966614  0.007913\n",
      "5                     560_bodyfat  0.595445  0.964600  0.678973\n",
      "6                   227_cpu_small  0.949931  0.953020  0.010269\n",
      "7                     197_cpu_act  0.939741  0.948657  0.029758\n",
      "8         523_analcatdata_neavote  0.936577  0.943564  0.027836\n",
      "9          556_analcatdata_apnea2  0.863564  0.867927  0.021875\n",
      "10                   229_pwLinear  0.856554  0.864017  0.029523\n",
      "11                       1027_ESL  0.859966  0.859878  0.021908\n",
      "12         557_analcatdata_apnea1  0.860032  0.856020  0.045725\n",
      "13                      210_cloud  0.785513  0.855809  0.174546\n",
      "14                695_chatfield_4  0.857361  0.854139  0.032336\n",
      "15           1096_FacultySalaries  0.607180  0.836315  0.514190\n",
      "16                     529_pollen  0.787219  0.782358  0.011886\n",
      "17                230_machine_cpu  0.561278  0.759371  0.550194\n",
      "18                       503_wind  0.755600  0.752685  0.010931\n",
      "19            712_chscase_geyser1  0.749426  0.749685  0.052773\n",
      "20                   1089_USCrime  0.708195  0.739885  0.140384\n",
      "21                    228_elusage  0.624231  0.721685  0.225679\n",
      "22                     519_vinnie  0.724621  0.713402  0.036459\n",
      "23                    225_puma8NH  0.673587  0.676840  0.019615\n",
      "24              666_rmftsa_ladata  0.678517  0.663484  0.045206\n",
      "25              659_sleuth_ex1714  0.577351  0.610788  0.252262\n",
      "26            706_sleuth_case1202  0.435080  0.572711  0.418311\n",
      "27                       1029_LEV  0.557463  0.553204  0.036105\n",
      "28                        547_no2  0.473821  0.446190  0.102342\n",
      "29                       1030_ERA  0.385125  0.381476  0.046993\n",
      "30                       1028_SWD  0.339529  0.339576  0.039479\n",
      "31        485_analcatdata_vehicle  0.162436  0.304339  0.714552\n",
      "32                  542_pollution -0.510228  0.252399  2.126192\n",
      "33                       522_pm10  0.242843  0.240674  0.052415\n",
      "34            665_sleuth_case2002  0.164390  0.216995  0.215279\n",
      "35                   192_vineyard  0.204839  0.213078  0.382138\n",
      "36              687_sleuth_ex1605  0.007894  0.151750  0.394736\n",
      "37  678_visualizing_environmental  0.107825  0.111752  0.199401\n"
     ]
    }
   ],
   "source": [
    "# Group by problem and calculate the mean, median, and standard deviation for r2_zero_test scores\n",
    "algorithm_stats = aggregated_results.groupby(\"dataset\")[\"r2_zero_test\"].agg(['mean', 'median', 'std']).reset_index()\n",
    "\n",
    "# Sort algorithms by median r2_zero_test score\n",
    "algorithm_stats = algorithm_stats.sort_values(by=\"median\", ascending=False).reset_index(drop=True)\n",
    "\n",
    "print(algorithm_stats)"
   ]
  },
  {
   "cell_type": "code",
   "execution_count": 9,
   "metadata": {},
   "outputs": [],
   "source": [
    "r2_tests = np.concatenate(r2_tests).ravel()\n",
    "# print(r2_tests)"
   ]
  },
  {
   "cell_type": "code",
   "execution_count": 10,
   "metadata": {},
   "outputs": [
    {
     "name": "stdout",
     "output_type": "stream",
     "text": [
      "Mean test R2 =  0.6167499427856007\n"
     ]
    }
   ],
   "source": [
    "print(\"Mean test R2 = \", r2_tests.mean().item())"
   ]
  },
  {
   "cell_type": "code",
   "execution_count": 11,
   "metadata": {},
   "outputs": [
    {
     "data": {
      "text/plain": [
       "0.5219995371567658"
      ]
     },
     "execution_count": 11,
     "metadata": {},
     "output_type": "execute_result"
    }
   ],
   "source": [
    "r2_tests.std().item()"
   ]
  },
  {
   "cell_type": "code",
   "execution_count": 12,
   "metadata": {},
   "outputs": [
    {
     "name": "stdout",
     "output_type": "stream",
     "text": [
      "Median test R2 =  0.7539631702366081\n"
     ]
    }
   ],
   "source": [
    "print(\"Median test R2 = \", np.median(r2_tests).item())"
   ]
  },
  {
   "cell_type": "code",
   "execution_count": 13,
   "metadata": {},
   "outputs": [
    {
     "name": "stdout",
     "output_type": "stream",
     "text": [
      "| dataset                       |        mean |   median |        std |\n",
      "|:------------------------------|------------:|---------:|-----------:|\n",
      "| 663_rabe_266                  |  0.994973   | 0.994792 | 0.00138667 |\n",
      "| 527_analcatdata_election2000  |  0.992298   | 0.992383 | 0.00615176 |\n",
      "| 505_tecator                   |  0.985639   | 0.987823 | 0.00600829 |\n",
      "| 561_cpu                       |  0.976692   | 0.981073 | 0.0157433  |\n",
      "| 690_visualizing_galaxy        |  0.96399    | 0.966614 | 0.00791278 |\n",
      "| 560_bodyfat                   |  0.595445   | 0.9646   | 0.678973   |\n",
      "| 227_cpu_small                 |  0.949931   | 0.95302  | 0.0102687  |\n",
      "| 197_cpu_act                   |  0.939741   | 0.948657 | 0.0297579  |\n",
      "| 523_analcatdata_neavote       |  0.936577   | 0.943564 | 0.0278365  |\n",
      "| 556_analcatdata_apnea2        |  0.863564   | 0.867927 | 0.0218752  |\n",
      "| 229_pwLinear                  |  0.856554   | 0.864017 | 0.0295234  |\n",
      "| 1027_ESL                      |  0.859966   | 0.859878 | 0.0219077  |\n",
      "| 557_analcatdata_apnea1        |  0.860032   | 0.85602  | 0.0457254  |\n",
      "| 210_cloud                     |  0.785513   | 0.855809 | 0.174546   |\n",
      "| 695_chatfield_4               |  0.857361   | 0.854139 | 0.0323364  |\n",
      "| 1096_FacultySalaries          |  0.60718    | 0.836315 | 0.51419    |\n",
      "| 529_pollen                    |  0.787219   | 0.782358 | 0.0118861  |\n",
      "| 230_machine_cpu               |  0.561278   | 0.759371 | 0.550194   |\n",
      "| 503_wind                      |  0.7556     | 0.752685 | 0.0109313  |\n",
      "| 712_chscase_geyser1           |  0.749426   | 0.749685 | 0.0527733  |\n",
      "| 1089_USCrime                  |  0.708195   | 0.739885 | 0.140384   |\n",
      "| 228_elusage                   |  0.624231   | 0.721685 | 0.225679   |\n",
      "| 519_vinnie                    |  0.724621   | 0.713402 | 0.0364589  |\n",
      "| 225_puma8NH                   |  0.673587   | 0.67684  | 0.0196146  |\n",
      "| 666_rmftsa_ladata             |  0.678517   | 0.663484 | 0.0452063  |\n",
      "| 659_sleuth_ex1714             |  0.577351   | 0.610788 | 0.252262   |\n",
      "| 706_sleuth_case1202           |  0.43508    | 0.572711 | 0.418311   |\n",
      "| 1029_LEV                      |  0.557463   | 0.553204 | 0.0361047  |\n",
      "| 547_no2                       |  0.473821   | 0.44619  | 0.102342   |\n",
      "| 1030_ERA                      |  0.385125   | 0.381476 | 0.0469926  |\n",
      "| 1028_SWD                      |  0.339529   | 0.339576 | 0.0394794  |\n",
      "| 485_analcatdata_vehicle       |  0.162436   | 0.304339 | 0.714552   |\n",
      "| 542_pollution                 | -0.510228   | 0.252399 | 2.12619    |\n",
      "| 522_pm10                      |  0.242843   | 0.240674 | 0.0524153  |\n",
      "| 665_sleuth_case2002           |  0.16439    | 0.216995 | 0.215279   |\n",
      "| 192_vineyard                  |  0.204839   | 0.213078 | 0.382138   |\n",
      "| 687_sleuth_ex1605             |  0.00789428 | 0.15175  | 0.394736   |\n",
      "| 678_visualizing_environmental |  0.107825   | 0.111752 | 0.199401   |\n"
     ]
    }
   ],
   "source": [
    "# Convert the DataFrame to Markdown\n",
    "markdown_table = algorithm_stats.to_markdown(index=False)\n",
    "\n",
    "# Print the Markdown table\n",
    "print(markdown_table)\n",
    "\n",
    "# Save the Markdown table to a file\n",
    "with open('table.md', 'w') as file:\n",
    "    file.write(markdown_table)\n"
   ]
  },
  {
   "cell_type": "code",
   "execution_count": null,
   "metadata": {},
   "outputs": [],
   "source": []
  }
 ],
 "metadata": {
  "kernelspec": {
   "display_name": "alpine",
   "language": "python",
   "name": "python3"
  },
  "language_info": {
   "codemirror_mode": {
    "name": "ipython",
    "version": 3
   },
   "file_extension": ".py",
   "mimetype": "text/x-python",
   "name": "python",
   "nbconvert_exporter": "python",
   "pygments_lexer": "ipython3",
   "version": "3.12.0"
  }
 },
 "nbformat": 4,
 "nbformat_minor": 2
}
