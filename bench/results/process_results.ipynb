{
 "cells": [
  {
   "cell_type": "code",
   "execution_count": 1,
   "metadata": {},
   "outputs": [],
   "source": [
    "import pandas as pd\n",
    "import os\n",
    "import glob\n",
    "import numpy as np"
   ]
  },
  {
   "cell_type": "code",
   "execution_count": 2,
   "metadata": {},
   "outputs": [
    {
     "name": "stdout",
     "output_type": "stream",
     "text": [
      "['678_visualizing_environmental.csv', '706_sleuth_case1202.csv', '695_chatfield_4.csv', '522_pm10.csv', '547_no2.csv', '229_pwLinear.csv', '666_rmftsa_ladata.csv', '227_cpu_small.csv', 'alpinegp-blackbox_results.csv', '542_pollution.csv', '210_cloud.csv', '523_analcatdata_neavote.csv', '687_sleuth_ex1605.csv', '712_chscase_geyser1.csv', '505_tecator.csv', '1096_FacultySalaries.csv', '1030_ERA.csv', '690_visualizing_galaxy.csv', '225_puma8NH.csv', '1028_SWD.csv', '228_elusage.csv', '529_pollen.csv', '557_analcatdata_apnea1.csv', '560_bodyfat.csv', '485_analcatdata_vehicle.csv', '659_sleuth_ex1714.csv', '527_analcatdata_election2000.csv', '1029_LEV.csv', '503_wind.csv', '556_analcatdata_apnea2.csv', '192_vineyard.csv', '663_rabe_266.csv', '665_sleuth_case2002.csv', '1027_ESL.csv', '230_machine_cpu.csv', '1089_USCrime.csv', '561_cpu.csv', '519_vinnie.csv', '197_cpu_act.csv']\n",
      "39\n"
     ]
    }
   ],
   "source": [
    "extension = 'csv'\n",
    "result_files = glob.glob('*.{}'.format(extension))\n",
    "print(result_files)\n",
    "print(len(result_files))"
   ]
  },
  {
   "cell_type": "code",
   "execution_count": 3,
   "metadata": {},
   "outputs": [],
   "source": [
    "r2_tests= []\n",
    "aggregated_results = pd.DataFrame()\n",
    "# combine all the results files into one dataset\n",
    "for file in result_files: \n",
    "    # skip aggregate results file\n",
    "    if \"_results\" in file:\n",
    "        continue\n",
    "    # skip Friedman datasets\n",
    "    if \"fri\" in file:\n",
    "        continue\n",
    "    data = pd.read_csv(file, sep=\";\", header=0)\n",
    "    aggregated_results = pd.concat([aggregated_results, data])\n",
    "    r2_tests.append(data[\"r2_test\"].to_numpy())\n",
    "\n",
    "# add algorithm name\n",
    "aggregated_results[\"algorithm\"] = \"AlpineGP\""
   ]
  },
  {
   "cell_type": "code",
   "execution_count": 4,
   "metadata": {},
   "outputs": [
    {
     "name": "stdout",
     "output_type": "stream",
     "text": [
      "   algorithm                        problem   r2_test\n",
      "0   AlpineGP  678_visualizing_environmental -0.389721\n",
      "1   AlpineGP  678_visualizing_environmental  0.294045\n",
      "2   AlpineGP  678_visualizing_environmental  0.147189\n",
      "3   AlpineGP  678_visualizing_environmental  0.290096\n",
      "4   AlpineGP  678_visualizing_environmental -0.199600\n",
      "..       ...                            ...       ...\n",
      "5   AlpineGP                    197_cpu_act  0.943117\n",
      "6   AlpineGP                    197_cpu_act  0.943355\n",
      "7   AlpineGP                    197_cpu_act  0.948425\n",
      "8   AlpineGP                    197_cpu_act  0.933159\n",
      "9   AlpineGP                    197_cpu_act  0.938404\n",
      "\n",
      "[380 rows x 3 columns]\n"
     ]
    }
   ],
   "source": [
    "print(aggregated_results[[\"algorithm\", \"problem\", \"r2_test\"]])"
   ]
  },
  {
   "cell_type": "code",
   "execution_count": 5,
   "metadata": {},
   "outputs": [],
   "source": [
    "aggregated_results = aggregated_results.rename(columns={\"r2_test\": \"r2_zero_test\", \"problem\": \"dataset\"})\n",
    "\n",
    "aggregated_results.to_csv(\"alpinegp-blackbox_results.csv\", index=False)"
   ]
  },
  {
   "cell_type": "code",
   "execution_count": 6,
   "metadata": {},
   "outputs": [
    {
     "name": "stdout",
     "output_type": "stream",
     "text": [
      "                          dataset  r2_train  r2_zero_test  r2_difference\n",
      "0                   542_pollution  0.874251      0.173085       0.701166\n",
      "1               687_sleuth_ex1605  0.868065      0.254565       0.613500\n",
      "2   678_visualizing_environmental  0.578558      0.033098       0.545460\n",
      "3                    192_vineyard  0.879874      0.407618       0.472256\n",
      "4             706_sleuth_case1202  0.886404      0.461436       0.424968\n",
      "5         485_analcatdata_vehicle  0.951373      0.527420       0.423953\n",
      "6             665_sleuth_case2002  0.567414      0.147407       0.420007\n",
      "7               659_sleuth_ex1714  0.961037      0.668219       0.292818\n",
      "8                    1089_USCrime  0.964041      0.711690       0.252351\n",
      "9                        522_pm10  0.378014      0.203602       0.174413\n",
      "10                      210_cloud  0.943635      0.771190       0.172446\n",
      "11                    228_elusage  0.901250      0.731864       0.169386\n",
      "12                        547_no2  0.614464      0.464050       0.150414\n",
      "13                230_machine_cpu  0.953896      0.855774       0.098122\n",
      "14                       1028_SWD  0.437111      0.346061       0.091050\n",
      "15           1096_FacultySalaries  0.979208      0.900892       0.078316\n",
      "16              666_rmftsa_ladata  0.694562      0.636597       0.057965\n",
      "17                     519_vinnie  0.765546      0.712618       0.052929\n",
      "18            712_chscase_geyser1  0.798654      0.748223       0.050431\n",
      "19                695_chatfield_4  0.896391      0.846134       0.050256\n",
      "20                   229_pwLinear  0.896076      0.862304       0.033772\n",
      "21                       1029_LEV  0.586935      0.554906       0.032029\n",
      "22                        561_cpu  0.988354      0.959272       0.029082\n",
      "23         556_analcatdata_apnea2  0.891144      0.868689       0.022455\n",
      "24                       503_wind  0.763470      0.747827       0.015642\n",
      "25                       1030_ERA  0.392337      0.380075       0.012262\n",
      "26                     529_pollen  0.793444      0.782358       0.011086\n",
      "27                       1027_ESL  0.872370      0.861795       0.010575\n",
      "28        523_analcatdata_neavote  0.953523      0.943564       0.009959\n",
      "29         690_visualizing_galaxy  0.968932      0.960901       0.008031\n",
      "30         557_analcatdata_apnea1  0.897569      0.890836       0.006733\n",
      "31   527_analcatdata_election2000  0.997728      0.992758       0.004969\n",
      "32                    560_bodyfat  0.990129      0.985325       0.004804\n",
      "33                    197_cpu_act  0.948249      0.944068       0.004181\n",
      "34                  227_cpu_small  0.951751      0.949224       0.002526\n",
      "35                    505_tecator  0.989138      0.987719       0.001419\n",
      "36                   663_rabe_266  0.996307      0.995115       0.001192\n",
      "37                    225_puma8NH  0.673448      0.672508       0.000939\n"
     ]
    }
   ],
   "source": [
    "# Group by problem and calculate the mean, median, and standard deviation for r2_zero_test scores\n",
    "algorithm_stats = aggregated_results.groupby(\"dataset\").agg({\"r2_train\": \"median\", \"r2_zero_test\": \"median\"}).reset_index()\n",
    "\n",
    "algorithm_stats[\"r2_difference\"] = algorithm_stats[\"r2_train\"] - algorithm_stats[\"r2_zero_test\"]\n",
    "\n",
    "# Sort algorithms by median r2_zero_test score\n",
    "algorithm_stats = algorithm_stats.sort_values(by=\"r2_difference\", ascending=False).reset_index(drop=True)\n",
    "\n",
    "print(algorithm_stats)"
   ]
  },
  {
   "cell_type": "code",
   "execution_count": 7,
   "metadata": {},
   "outputs": [
    {
     "name": "stdout",
     "output_type": "stream",
     "text": [
      "                          dataset      mean    median       std\n",
      "0                    663_rabe_266  0.994842  0.995115  0.001182\n",
      "1    527_analcatdata_election2000  0.992449  0.992758  0.006080\n",
      "2                     505_tecator  0.986318  0.987719  0.005882\n",
      "3                     560_bodyfat  0.762608  0.985325  0.476887\n",
      "4          690_visualizing_galaxy  0.960013  0.960901  0.007752\n",
      "5                         561_cpu  0.952311  0.959272  0.037394\n",
      "6                   227_cpu_small  0.948032  0.949224  0.007988\n",
      "7                     197_cpu_act  0.944818  0.944068  0.007780\n",
      "8         523_analcatdata_neavote  0.936577  0.943564  0.027836\n",
      "9            1096_FacultySalaries  0.668179  0.900892  0.528163\n",
      "10         557_analcatdata_apnea1  0.883680  0.890836  0.049260\n",
      "11         556_analcatdata_apnea2  0.867434  0.868689  0.034457\n",
      "12                   229_pwLinear  0.852877  0.862304  0.030776\n",
      "13                       1027_ESL  0.862582  0.861795  0.015694\n",
      "14                230_machine_cpu  0.837992  0.855774  0.095164\n",
      "15                695_chatfield_4  0.840588  0.846134  0.030319\n",
      "16                     529_pollen  0.787219  0.782358  0.011886\n",
      "17                      210_cloud  0.748341  0.771190  0.180143\n",
      "18            712_chscase_geyser1  0.743270  0.748223  0.061881\n",
      "19                       503_wind  0.752308  0.747827  0.015645\n",
      "20                    228_elusage  0.622239  0.731864  0.262473\n",
      "21                     519_vinnie  0.723072  0.712618  0.035939\n",
      "22                   1089_USCrime  0.704902  0.711690  0.122542\n",
      "23                    225_puma8NH  0.671851  0.672508  0.016387\n",
      "24              659_sleuth_ex1714  0.515667  0.668219  0.405822\n",
      "25              666_rmftsa_ladata  0.659410  0.636597  0.078958\n",
      "26                       1029_LEV  0.558905  0.554906  0.037594\n",
      "27        485_analcatdata_vehicle  0.246539  0.527420  0.645651\n",
      "28                        547_no2  0.484300  0.464050  0.077352\n",
      "29            706_sleuth_case1202  0.440416  0.461436  0.260639\n",
      "30                   192_vineyard  0.294422  0.407618  0.393012\n",
      "31                       1030_ERA  0.384510  0.380075  0.046184\n",
      "32                       1028_SWD  0.348074  0.346061  0.042498\n",
      "33              687_sleuth_ex1605  0.146498  0.254565  0.357871\n",
      "34                       522_pm10  0.194752  0.203602  0.066295\n",
      "35                  542_pollution -0.026572  0.173085  0.692719\n",
      "36            665_sleuth_case2002  0.204290  0.147407  0.163887\n",
      "37  678_visualizing_environmental -0.126890  0.033098  0.441942\n"
     ]
    }
   ],
   "source": [
    "# Group by problem and calculate the mean, median, and standard deviation for r2_zero_test scores\n",
    "algorithm_stats = aggregated_results.groupby(\"dataset\")[\"r2_zero_test\"].agg(['mean', 'median', 'std']).reset_index()\n",
    "\n",
    "# Sort algorithms by median r2_zero_test score\n",
    "algorithm_stats = algorithm_stats.sort_values(by=\"median\", ascending=False).reset_index(drop=True)\n",
    "\n",
    "print(algorithm_stats)"
   ]
  },
  {
   "cell_type": "code",
   "execution_count": 8,
   "metadata": {},
   "outputs": [],
   "source": [
    "r2_tests = np.concatenate(r2_tests).ravel()\n",
    "# print(r2_tests)"
   ]
  },
  {
   "cell_type": "code",
   "execution_count": 9,
   "metadata": {},
   "outputs": [
    {
     "name": "stdout",
     "output_type": "stream",
     "text": [
      "Mean test R2 =  0.6412848426713436\n"
     ]
    }
   ],
   "source": [
    "print(\"Mean test R2 = \", r2_tests.mean().item())"
   ]
  },
  {
   "cell_type": "code",
   "execution_count": 10,
   "metadata": {},
   "outputs": [
    {
     "data": {
      "text/plain": [
       "0.3791587018927324"
      ]
     },
     "execution_count": 10,
     "metadata": {},
     "output_type": "execute_result"
    }
   ],
   "source": [
    "r2_tests.std().item()"
   ]
  },
  {
   "cell_type": "code",
   "execution_count": 11,
   "metadata": {},
   "outputs": [
    {
     "name": "stdout",
     "output_type": "stream",
     "text": [
      "Median test R2 =  0.7634275998757735\n"
     ]
    }
   ],
   "source": [
    "print(\"Median test R2 = \", np.median(r2_tests).item())"
   ]
  },
  {
   "cell_type": "code",
   "execution_count": 12,
   "metadata": {},
   "outputs": [
    {
     "name": "stdout",
     "output_type": "stream",
     "text": [
      "| dataset                       |      mean |    median |        std |\n",
      "|:------------------------------|----------:|----------:|-----------:|\n",
      "| 663_rabe_266                  |  0.994842 | 0.995115  | 0.0011823  |\n",
      "| 527_analcatdata_election2000  |  0.992449 | 0.992758  | 0.00608007 |\n",
      "| 505_tecator                   |  0.986318 | 0.987719  | 0.00588222 |\n",
      "| 560_bodyfat                   |  0.762608 | 0.985325  | 0.476887   |\n",
      "| 690_visualizing_galaxy        |  0.960013 | 0.960901  | 0.00775153 |\n",
      "| 561_cpu                       |  0.952311 | 0.959272  | 0.0373935  |\n",
      "| 227_cpu_small                 |  0.948032 | 0.949224  | 0.00798752 |\n",
      "| 197_cpu_act                   |  0.944818 | 0.944068  | 0.00778017 |\n",
      "| 523_analcatdata_neavote       |  0.936577 | 0.943564  | 0.0278365  |\n",
      "| 1096_FacultySalaries          |  0.668179 | 0.900892  | 0.528163   |\n",
      "| 557_analcatdata_apnea1        |  0.88368  | 0.890836  | 0.0492599  |\n",
      "| 556_analcatdata_apnea2        |  0.867434 | 0.868689  | 0.0344567  |\n",
      "| 229_pwLinear                  |  0.852877 | 0.862304  | 0.0307764  |\n",
      "| 1027_ESL                      |  0.862582 | 0.861795  | 0.0156944  |\n",
      "| 230_machine_cpu               |  0.837992 | 0.855774  | 0.0951643  |\n",
      "| 695_chatfield_4               |  0.840588 | 0.846134  | 0.030319   |\n",
      "| 529_pollen                    |  0.787219 | 0.782358  | 0.0118863  |\n",
      "| 210_cloud                     |  0.748341 | 0.77119   | 0.180143   |\n",
      "| 712_chscase_geyser1           |  0.74327  | 0.748223  | 0.0618811  |\n",
      "| 503_wind                      |  0.752308 | 0.747827  | 0.0156449  |\n",
      "| 228_elusage                   |  0.622239 | 0.731864  | 0.262473   |\n",
      "| 519_vinnie                    |  0.723072 | 0.712618  | 0.0359387  |\n",
      "| 1089_USCrime                  |  0.704902 | 0.71169   | 0.122542   |\n",
      "| 225_puma8NH                   |  0.671851 | 0.672508  | 0.0163869  |\n",
      "| 659_sleuth_ex1714             |  0.515667 | 0.668219  | 0.405822   |\n",
      "| 666_rmftsa_ladata             |  0.65941  | 0.636597  | 0.0789583  |\n",
      "| 1029_LEV                      |  0.558905 | 0.554906  | 0.0375942  |\n",
      "| 485_analcatdata_vehicle       |  0.246539 | 0.52742   | 0.645651   |\n",
      "| 547_no2                       |  0.4843   | 0.46405   | 0.0773519  |\n",
      "| 706_sleuth_case1202           |  0.440416 | 0.461436  | 0.260639   |\n",
      "| 192_vineyard                  |  0.294422 | 0.407618  | 0.393012   |\n",
      "| 1030_ERA                      |  0.38451  | 0.380075  | 0.0461838  |\n",
      "| 1028_SWD                      |  0.348074 | 0.346061  | 0.0424981  |\n",
      "| 687_sleuth_ex1605             |  0.146498 | 0.254565  | 0.357871   |\n",
      "| 522_pm10                      |  0.194752 | 0.203602  | 0.0662953  |\n",
      "| 542_pollution                 | -0.026572 | 0.173085  | 0.692719   |\n",
      "| 665_sleuth_case2002           |  0.20429  | 0.147407  | 0.163887   |\n",
      "| 678_visualizing_environmental | -0.12689  | 0.0330983 | 0.441942   |\n"
     ]
    }
   ],
   "source": [
    "# Convert the DataFrame to Markdown\n",
    "markdown_table = algorithm_stats.to_markdown(index=False)\n",
    "\n",
    "# Print the Markdown table\n",
    "print(markdown_table)\n",
    "\n",
    "# Save the Markdown table to a file\n",
    "with open('table.md', 'w') as file:\n",
    "    file.write(markdown_table)\n"
   ]
  },
  {
   "cell_type": "code",
   "execution_count": null,
   "metadata": {},
   "outputs": [],
   "source": []
  }
 ],
 "metadata": {
  "kernelspec": {
   "display_name": "alpine",
   "language": "python",
   "name": "python3"
  },
  "language_info": {
   "codemirror_mode": {
    "name": "ipython",
    "version": 3
   },
   "file_extension": ".py",
   "mimetype": "text/x-python",
   "name": "python",
   "nbconvert_exporter": "python",
   "pygments_lexer": "ipython3",
   "version": "3.12.0"
  }
 },
 "nbformat": 4,
 "nbformat_minor": 2
}
