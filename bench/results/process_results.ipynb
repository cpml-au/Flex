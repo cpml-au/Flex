{
 "cells": [
  {
   "cell_type": "code",
   "execution_count": 79,
   "metadata": {},
   "outputs": [],
   "source": [
    "import pandas as pd\n",
    "import os\n",
    "import glob\n",
    "import numpy as np"
   ]
  },
  {
   "cell_type": "code",
   "execution_count": 80,
   "metadata": {},
   "outputs": [
    {
     "name": "stdout",
     "output_type": "stream",
     "text": [
      "['678_visualizing_environmental.csv', '687_sleuth_ex1605.csv', '659_sleuth_ex1714.csv', '561_cpu.csv', '529_pollen.csv', 'alpinegp-blackbox_results.csv', '503_wind.csv', '1029_LEV.csv', '522_pm10.csv', '542_pollution.csv', '1027_ESL.csv', '1028_SWD.csv', '695_chatfield_4.csv', '225_puma8NH.csv', '227_cpu_small.csv', '229_pwLinear.csv', '712_chscase_geyser1.csv', '547_no2.csv', '1096_FacultySalaries.csv', '666_rmftsa_ladata.csv', '192_vineyard.csv', '519_vinnie.csv', '527_analcatdata_election2000.csv', '706_sleuth_case1202.csv', '523_analcatdata_neavote.csv', '560_bodyfat.csv', '1030_ERA.csv', '485_analcatdata_vehicle.csv', '505_tecator.csv', '556_analcatdata_apnea2.csv', '690_visualizing_galaxy.csv', '663_rabe_266.csv', '557_analcatdata_apnea1.csv', '197_cpu_act.csv', '665_sleuth_case2002.csv', '210_cloud.csv', '1089_USCrime.csv', '230_machine_cpu.csv', '228_elusage.csv']\n",
      "39\n"
     ]
    }
   ],
   "source": [
    "extension = 'csv'\n",
    "result_files = glob.glob('*.{}'.format(extension))\n",
    "print(result_files)\n",
    "print(len(result_files))"
   ]
  },
  {
   "cell_type": "code",
   "execution_count": 81,
   "metadata": {},
   "outputs": [],
   "source": [
    "r2_tests= []\n",
    "aggregated_results = pd.DataFrame()\n",
    "# combine all the results files into one dataset\n",
    "for file in result_files: \n",
    "    # skip aggregate results file\n",
    "    if \"_results\" in file:\n",
    "        continue\n",
    "    # skip Friedman datasets\n",
    "    if \"fri\" in file:\n",
    "        continue\n",
    "    data = pd.read_csv(file, sep=\";\", header=0)\n",
    "    aggregated_results = pd.concat([aggregated_results, data])\n",
    "    r2_tests.append(data[\"r2_test\"].to_numpy())\n",
    "\n",
    "# add algorithm name\n",
    "aggregated_results[\"algorithm\"] = \"AlpineGP\""
   ]
  },
  {
   "cell_type": "code",
   "execution_count": 82,
   "metadata": {},
   "outputs": [
    {
     "name": "stdout",
     "output_type": "stream",
     "text": [
      "   algorithm                        problem   r2_test\n",
      "0   AlpineGP  678_visualizing_environmental  0.243464\n",
      "1   AlpineGP  678_visualizing_environmental  0.338494\n",
      "2   AlpineGP  678_visualizing_environmental  0.353510\n",
      "3   AlpineGP  678_visualizing_environmental  0.068854\n",
      "4   AlpineGP  678_visualizing_environmental  0.214836\n",
      "..       ...                            ...       ...\n",
      "5   AlpineGP                    228_elusage  0.661387\n",
      "6   AlpineGP                    228_elusage  0.825378\n",
      "7   AlpineGP                    228_elusage  0.769816\n",
      "8   AlpineGP                    228_elusage  0.779143\n",
      "9   AlpineGP                    228_elusage  0.601095\n",
      "\n",
      "[380 rows x 3 columns]\n"
     ]
    }
   ],
   "source": [
    "print(aggregated_results[[\"algorithm\", \"problem\", \"r2_test\"]])"
   ]
  },
  {
   "cell_type": "code",
   "execution_count": 83,
   "metadata": {},
   "outputs": [],
   "source": [
    "aggregated_results = aggregated_results.rename(columns={\"r2_test\": \"r2_zero_test\", \"problem\": \"dataset\"})\n",
    "\n",
    "aggregated_results.to_csv(\"alpinegp-blackbox_results.csv\", index=False)"
   ]
  },
  {
   "cell_type": "code",
   "execution_count": 84,
   "metadata": {},
   "outputs": [
    {
     "name": "stdout",
     "output_type": "stream",
     "text": [
      "                          dataset  r2_train  r2_zero_test  r2_difference\n",
      "0                   542_pollution  0.684331      0.279925       0.404405\n",
      "1         485_analcatdata_vehicle  0.802208      0.445686       0.356522\n",
      "2               687_sleuth_ex1605  0.739826      0.440191       0.299635\n",
      "3               659_sleuth_ex1714  0.895463      0.596779       0.298684\n",
      "4                    192_vineyard  0.803101      0.607424       0.195676\n",
      "5                    1089_USCrime  0.889593      0.714857       0.174735\n",
      "6            1096_FacultySalaries  0.917317      0.747520       0.169797\n",
      "7             706_sleuth_case1202  0.758698      0.607997       0.150701\n",
      "8                       210_cloud  0.897807      0.773185       0.124622\n",
      "9   678_visualizing_environmental  0.437419      0.319226       0.118193\n",
      "10                    228_elusage  0.858144      0.764459       0.093685\n",
      "11                       522_pm10  0.235845      0.150268       0.085577\n",
      "12                       1028_SWD  0.373881      0.300482       0.073398\n",
      "13                   229_pwLinear  0.697340      0.659344       0.037995\n",
      "14                        561_cpu  0.959563      0.927481       0.032082\n",
      "15                     519_vinnie  0.757825      0.732460       0.025365\n",
      "16                230_machine_cpu  0.907911      0.885059       0.022852\n",
      "17            665_sleuth_case2002  0.410781      0.387985       0.022796\n",
      "18                       1029_LEV  0.564298      0.541630       0.022668\n",
      "19            712_chscase_geyser1  0.777547      0.755189       0.022358\n",
      "20         556_analcatdata_apnea2  0.661671      0.648621       0.013050\n",
      "21                     529_pollen  0.788387      0.778052       0.010335\n",
      "22                  227_cpu_small  0.844623      0.834428       0.010195\n",
      "23        523_analcatdata_neavote  0.952758      0.943564       0.009193\n",
      "24                       1030_ERA  0.363539      0.355118       0.008421\n",
      "25                       503_wind  0.704516      0.696209       0.008306\n",
      "26                        547_no2  0.481111      0.472918       0.008193\n",
      "27   527_analcatdata_election2000  0.994607      0.988501       0.006106\n",
      "28                695_chatfield_4  0.875092      0.869568       0.005525\n",
      "29         690_visualizing_galaxy  0.959133      0.955864       0.003269\n",
      "30                    225_puma8NH  0.611552      0.611060       0.000492\n",
      "31                   663_rabe_266  0.988976      0.988770       0.000206\n",
      "32                    505_tecator  0.981423      0.981874      -0.000451\n",
      "33                    197_cpu_act  0.801022      0.804859      -0.003836\n",
      "34                       1027_ESL  0.859171      0.864123      -0.004953\n",
      "35              666_rmftsa_ladata  0.623660      0.641504      -0.017843\n",
      "36         557_analcatdata_apnea1  0.678583      0.704865      -0.026282\n",
      "37                    560_bodyfat  0.968663      0.997511      -0.028848\n"
     ]
    }
   ],
   "source": [
    "# Group by problem and calculate the mean, median, and standard deviation for r2_zero_test scores\n",
    "algorithm_stats = aggregated_results.groupby(\"dataset\").agg({\"r2_train\": \"median\", \"r2_zero_test\": \"median\"}).reset_index()\n",
    "\n",
    "algorithm_stats[\"r2_difference\"] = algorithm_stats[\"r2_train\"] - algorithm_stats[\"r2_zero_test\"]\n",
    "\n",
    "# Sort algorithms by median r2_zero_test score\n",
    "algorithm_stats = algorithm_stats.sort_values(by=\"r2_difference\", ascending=False).reset_index(drop=True)\n",
    "\n",
    "print(algorithm_stats)"
   ]
  },
  {
   "cell_type": "code",
   "execution_count": 85,
   "metadata": {},
   "outputs": [
    {
     "name": "stdout",
     "output_type": "stream",
     "text": [
      "                          dataset      mean    median       std\n",
      "0                     560_bodyfat  0.995081  0.997511  0.005728\n",
      "1                    663_rabe_266  0.987042  0.988770  0.008794\n",
      "2    527_analcatdata_election2000  0.987500  0.988501  0.004834\n",
      "3                     505_tecator  0.982222  0.981874  0.004591\n",
      "4          690_visualizing_galaxy  0.956153  0.955864  0.009107\n",
      "5         523_analcatdata_neavote  0.936344  0.943564  0.028017\n",
      "6                         561_cpu  0.898288  0.927481  0.102737\n",
      "7                 230_machine_cpu  0.826555  0.885059  0.163715\n",
      "8                 695_chatfield_4  0.873938  0.869568  0.033852\n",
      "9                        1027_ESL  0.863080  0.864123  0.017643\n",
      "10                  227_cpu_small  0.840726  0.834428  0.036993\n",
      "11                    197_cpu_act  0.802687  0.804859  0.011216\n",
      "12                     529_pollen  0.782721  0.778052  0.013291\n",
      "13                      210_cloud  0.774567  0.773185  0.115628\n",
      "14                    228_elusage  0.725545  0.764459  0.082134\n",
      "15            712_chscase_geyser1  0.763960  0.755189  0.039434\n",
      "16           1096_FacultySalaries  0.573206  0.747520  0.487491\n",
      "17                     519_vinnie  0.735402  0.732460  0.036598\n",
      "18                   1089_USCrime  0.678664  0.714857  0.120289\n",
      "19         557_analcatdata_apnea1  0.695470  0.704865  0.068746\n",
      "20                       503_wind  0.694512  0.696209  0.016122\n",
      "21                   229_pwLinear  0.622306  0.659344  0.097924\n",
      "22         556_analcatdata_apnea2  0.650120  0.648621  0.053736\n",
      "23              666_rmftsa_ladata  0.635451  0.641504  0.090807\n",
      "24                    225_puma8NH  0.611352  0.611060  0.008988\n",
      "25            706_sleuth_case1202  0.524071  0.607997  0.249180\n",
      "26                   192_vineyard  0.562951  0.607424  0.168958\n",
      "27              659_sleuth_ex1714  0.609377  0.596779  0.157322\n",
      "28                       1029_LEV  0.549073  0.541630  0.038462\n",
      "29                        547_no2  0.455964  0.472918  0.091929\n",
      "30        485_analcatdata_vehicle  0.065285  0.445686  0.876075\n",
      "31              687_sleuth_ex1605  0.279147  0.440191  0.338890\n",
      "32            665_sleuth_case2002  0.376265  0.387985  0.093959\n",
      "33                       1030_ERA  0.371213  0.355118  0.046020\n",
      "34  678_visualizing_environmental  0.266194  0.319226  0.110236\n",
      "35                       1028_SWD  0.295436  0.300482  0.038889\n",
      "36                  542_pollution  0.247895  0.279925  0.264959\n",
      "37                       522_pm10  0.162390  0.150268  0.056995\n"
     ]
    }
   ],
   "source": [
    "# Group by problem and calculate the mean, median, and standard deviation for r2_zero_test scores\n",
    "algorithm_stats = aggregated_results.groupby(\"dataset\")[\"r2_zero_test\"].agg(['mean', 'median', 'std']).reset_index()\n",
    "\n",
    "# Sort algorithms by median r2_zero_test score\n",
    "algorithm_stats = algorithm_stats.sort_values(by=\"median\", ascending=False).reset_index(drop=True)\n",
    "\n",
    "print(algorithm_stats)"
   ]
  },
  {
   "cell_type": "code",
   "execution_count": 86,
   "metadata": {},
   "outputs": [],
   "source": [
    "r2_tests = np.concatenate(r2_tests).ravel()\n",
    "# print(r2_tests)"
   ]
  },
  {
   "cell_type": "code",
   "execution_count": 87,
   "metadata": {},
   "outputs": [
    {
     "name": "stdout",
     "output_type": "stream",
     "text": [
      "Mean test R2 =  0.6488988182180486\n"
     ]
    }
   ],
   "source": [
    "print(\"Mean test R2 = \", r2_tests.mean().item())"
   ]
  },
  {
   "cell_type": "code",
   "execution_count": 88,
   "metadata": {},
   "outputs": [
    {
     "data": {
      "text/plain": [
       "0.309237904985923"
      ]
     },
     "execution_count": 88,
     "metadata": {},
     "output_type": "execute_result"
    }
   ],
   "source": [
    "r2_tests.std().item()"
   ]
  },
  {
   "cell_type": "code",
   "execution_count": 89,
   "metadata": {},
   "outputs": [
    {
     "name": "stdout",
     "output_type": "stream",
     "text": [
      "Median test R2 =  0.7059318186290151\n"
     ]
    }
   ],
   "source": [
    "print(\"Median test R2 = \", np.median(r2_tests).item())"
   ]
  },
  {
   "cell_type": "code",
   "execution_count": null,
   "metadata": {},
   "outputs": [],
   "source": []
  }
 ],
 "metadata": {
  "kernelspec": {
   "display_name": "alpine",
   "language": "python",
   "name": "python3"
  },
  "language_info": {
   "codemirror_mode": {
    "name": "ipython",
    "version": 3
   },
   "file_extension": ".py",
   "mimetype": "text/x-python",
   "name": "python",
   "nbconvert_exporter": "python",
   "pygments_lexer": "ipython3",
   "version": "3.12.8"
  }
 },
 "nbformat": 4,
 "nbformat_minor": 2
}
