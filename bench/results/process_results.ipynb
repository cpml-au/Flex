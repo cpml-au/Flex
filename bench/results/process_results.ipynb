{
 "cells": [
  {
   "cell_type": "code",
   "execution_count": null,
   "metadata": {},
   "outputs": [],
   "source": [
    "import pandas as pd\n",
    "import glob\n",
    "import numpy as np"
   ]
  },
  {
   "cell_type": "code",
   "execution_count": 14,
   "metadata": {},
   "outputs": [
    {
     "name": "stdout",
     "output_type": "stream",
     "text": [
      "['678_visualizing_environmental.csv', '706_sleuth_case1202.csv', '695_chatfield_4.csv', '522_pm10.csv', '547_no2.csv', '229_pwLinear.csv', '666_rmftsa_ladata.csv', '227_cpu_small.csv', 'alpinegp-blackbox_results.csv', '542_pollution.csv', '210_cloud.csv', '523_analcatdata_neavote.csv', '687_sleuth_ex1605.csv', '712_chscase_geyser1.csv', '505_tecator.csv', '1096_FacultySalaries.csv', '1030_ERA.csv', '690_visualizing_galaxy.csv', '225_puma8NH.csv', '1028_SWD.csv', '228_elusage.csv', '529_pollen.csv', '557_analcatdata_apnea1.csv', '560_bodyfat.csv', '485_analcatdata_vehicle.csv', '659_sleuth_ex1714.csv', '527_analcatdata_election2000.csv', '1029_LEV.csv', '503_wind.csv', '556_analcatdata_apnea2.csv', '192_vineyard.csv', '663_rabe_266.csv', '665_sleuth_case2002.csv', '1027_ESL.csv', '230_machine_cpu.csv', '1089_USCrime.csv', '561_cpu.csv', '519_vinnie.csv', '197_cpu_act.csv']\n",
      "39\n"
     ]
    }
   ],
   "source": [
    "extension = 'csv'\n",
    "result_files = glob.glob('*.{}'.format(extension))\n",
    "print(result_files)\n",
    "print(len(result_files))"
   ]
  },
  {
   "cell_type": "code",
   "execution_count": 15,
   "metadata": {},
   "outputs": [],
   "source": [
    "r2_tests= []\n",
    "aggregated_results = pd.DataFrame()\n",
    "# combine all the results files into one dataset\n",
    "for file in result_files: \n",
    "    # skip aggregate results file\n",
    "    if \"_results\" in file:\n",
    "        continue\n",
    "    # skip Friedman datasets\n",
    "    if \"fri\" in file:\n",
    "        continue\n",
    "    data = pd.read_csv(file, sep=\";\", header=0)\n",
    "    aggregated_results = pd.concat([aggregated_results, data])\n",
    "    r2_tests.append(data[\"r2_test\"].to_numpy())\n",
    "\n",
    "# add algorithm name\n",
    "aggregated_results[\"algorithm\"] = \"Flex\""
   ]
  },
  {
   "cell_type": "code",
   "execution_count": 16,
   "metadata": {},
   "outputs": [
    {
     "name": "stdout",
     "output_type": "stream",
     "text": [
      "   algorithm                        problem   r2_test\n",
      "0       Flex  678_visualizing_environmental -0.201873\n",
      "1       Flex  678_visualizing_environmental  0.374990\n",
      "2       Flex  678_visualizing_environmental  0.289871\n",
      "3       Flex  678_visualizing_environmental  0.338446\n",
      "4       Flex  678_visualizing_environmental  0.242497\n",
      "..       ...                            ...       ...\n",
      "5       Flex                    197_cpu_act  0.944783\n",
      "6       Flex                    197_cpu_act  0.947035\n",
      "7       Flex                    197_cpu_act  0.942767\n",
      "8       Flex                    197_cpu_act  0.943261\n",
      "9       Flex                    197_cpu_act  0.925469\n",
      "\n",
      "[380 rows x 3 columns]\n"
     ]
    }
   ],
   "source": [
    "print(aggregated_results[[\"algorithm\", \"problem\", \"r2_test\"]])"
   ]
  },
  {
   "cell_type": "code",
   "execution_count": 17,
   "metadata": {},
   "outputs": [],
   "source": [
    "aggregated_results = aggregated_results.rename(columns={\"r2_test\": \"r2_zero_test\", \"problem\": \"dataset\"})\n",
    "\n",
    "aggregated_results.to_csv(\"flex-blackbox_results.csv\", index=False)"
   ]
  },
  {
   "cell_type": "code",
   "execution_count": 18,
   "metadata": {},
   "outputs": [
    {
     "name": "stdout",
     "output_type": "stream",
     "text": [
      "                          dataset  r2_train  r2_zero_test  r2_difference\n",
      "0         485_analcatdata_vehicle  0.928629      0.218689       0.709939\n",
      "1                   542_pollution  0.862609      0.205069       0.657540\n",
      "2               687_sleuth_ex1605  0.836636      0.252290       0.584346\n",
      "3                    192_vineyard  0.869627      0.379204       0.490423\n",
      "4               659_sleuth_ex1714  0.953182      0.590340       0.362842\n",
      "5                    1089_USCrime  0.954135      0.642937       0.311198\n",
      "6             665_sleuth_case2002  0.525834      0.224279       0.301555\n",
      "7   678_visualizing_environmental  0.559170      0.266184       0.292986\n",
      "8             706_sleuth_case1202  0.861467      0.589932       0.271535\n",
      "9                     228_elusage  0.900911      0.722935       0.177976\n",
      "10                       522_pm10  0.357833      0.183038       0.174795\n",
      "11                      210_cloud  0.938630      0.777608       0.161022\n",
      "12                        547_no2  0.588655      0.475128       0.113527\n",
      "13                       1028_SWD  0.429349      0.320295       0.109054\n",
      "14           1096_FacultySalaries  0.964797      0.872021       0.092777\n",
      "15                230_machine_cpu  0.950076      0.879896       0.070180\n",
      "16                695_chatfield_4  0.890981      0.833939       0.057043\n",
      "17            712_chscase_geyser1  0.797893      0.747309       0.050584\n",
      "18                   229_pwLinear  0.861833      0.814269       0.047564\n",
      "19                       1029_LEV  0.583795      0.540238       0.043557\n",
      "20                     519_vinnie  0.757825      0.725140       0.032685\n",
      "21              666_rmftsa_ladata  0.681667      0.651334       0.030334\n",
      "22         557_analcatdata_apnea1  0.886145      0.859675       0.026470\n",
      "23                       1030_ERA  0.390937      0.376120       0.014816\n",
      "24         556_analcatdata_apnea2  0.882934      0.871478       0.011456\n",
      "25                     529_pollen  0.793444      0.782358       0.011086\n",
      "26                        561_cpu  0.990721      0.980248       0.010472\n",
      "27        523_analcatdata_neavote  0.953523      0.943564       0.009959\n",
      "28                       1027_ESL  0.870797      0.861532       0.009264\n",
      "29         690_visualizing_galaxy  0.970174      0.962481       0.007693\n",
      "30                       503_wind  0.751021      0.743439       0.007582\n",
      "31                    225_puma8NH  0.668656      0.664686       0.003970\n",
      "32                  227_cpu_small  0.949305      0.947010       0.002295\n",
      "33                    505_tecator  0.988587      0.986499       0.002088\n",
      "34                    197_cpu_act  0.947272      0.945909       0.001364\n",
      "35                   663_rabe_266  0.996174      0.995115       0.001059\n",
      "36   527_analcatdata_election2000  0.999088      0.998556       0.000531\n",
      "37                    560_bodyfat  0.989531      0.989548      -0.000017\n"
     ]
    }
   ],
   "source": [
    "# Group by problem and calculate the mean, median, and standard deviation for r2_zero_test scores\n",
    "algorithm_stats = aggregated_results.groupby(\"dataset\").agg({\"r2_train\": \"median\", \"r2_zero_test\": \"median\"}).reset_index()\n",
    "\n",
    "algorithm_stats[\"r2_difference\"] = algorithm_stats[\"r2_train\"] - algorithm_stats[\"r2_zero_test\"]\n",
    "\n",
    "# Sort algorithms by median r2_zero_test score\n",
    "algorithm_stats = algorithm_stats.sort_values(by=\"r2_difference\", ascending=False).reset_index(drop=True)\n",
    "\n",
    "print(algorithm_stats)"
   ]
  },
  {
   "cell_type": "code",
   "execution_count": 19,
   "metadata": {},
   "outputs": [
    {
     "name": "stdout",
     "output_type": "stream",
     "text": [
      "                          dataset      mean    median       std\n",
      "0    527_analcatdata_election2000  0.995885  0.998556  0.004849\n",
      "1                    663_rabe_266  0.994959  0.995115  0.001374\n",
      "2                     560_bodyfat  0.858423  0.989548  0.397481\n",
      "3                     505_tecator  0.987277  0.986499  0.003633\n",
      "4                         561_cpu  0.932056  0.980248  0.114270\n",
      "5          690_visualizing_galaxy  0.963504  0.962481  0.008851\n",
      "6                   227_cpu_small  0.948131  0.947010  0.005893\n",
      "7                     197_cpu_act  0.946148  0.945909  0.008979\n",
      "8         523_analcatdata_neavote  0.936577  0.943564  0.027836\n",
      "9                 230_machine_cpu  0.636093  0.879896  0.650444\n",
      "10           1096_FacultySalaries  0.657977  0.872021  0.523762\n",
      "11         556_analcatdata_apnea2  0.870681  0.871478  0.022826\n",
      "12                       1027_ESL  0.857537  0.861532  0.020075\n",
      "13         557_analcatdata_apnea1  0.815327  0.859675  0.136672\n",
      "14                695_chatfield_4  0.850168  0.833939  0.039068\n",
      "15                   229_pwLinear  0.809982  0.814269  0.044383\n",
      "16                     529_pollen  0.787219  0.782358  0.011886\n",
      "17                      210_cloud  0.751867  0.777608  0.167287\n",
      "18            712_chscase_geyser1  0.753083  0.747309  0.055528\n",
      "19                       503_wind  0.744326  0.743439  0.011445\n",
      "20                     519_vinnie  0.728474  0.725140  0.035101\n",
      "21                    228_elusage  0.654544  0.722935  0.203839\n",
      "22                    225_puma8NH  0.669281  0.664686  0.013369\n",
      "23              666_rmftsa_ladata  0.665445  0.651334  0.075856\n",
      "24                   1089_USCrime  0.644311  0.642937  0.181741\n",
      "25              659_sleuth_ex1714  0.511850  0.590340  0.323231\n",
      "26            706_sleuth_case1202  0.428920  0.589932  0.419211\n",
      "27                       1029_LEV  0.552535  0.540238  0.034792\n",
      "28                        547_no2  0.490568  0.475128  0.081176\n",
      "29                   192_vineyard  0.319696  0.379204  0.343057\n",
      "30                       1030_ERA  0.381877  0.376120  0.044938\n",
      "31                       1028_SWD  0.325653  0.320295  0.051017\n",
      "32  678_visualizing_environmental  0.158681  0.266184  0.228160\n",
      "33              687_sleuth_ex1605  0.124557  0.252290  0.431434\n",
      "34            665_sleuth_case2002  0.189768  0.224279  0.260591\n",
      "35        485_analcatdata_vehicle  0.172361  0.218689  0.557730\n",
      "36                  542_pollution  0.121769  0.205069  0.469192\n",
      "37                       522_pm10  0.207036  0.183038  0.056957\n"
     ]
    }
   ],
   "source": [
    "# Group by problem and calculate the mean, median, and standard deviation for r2_zero_test scores\n",
    "algorithm_stats = aggregated_results.groupby(\"dataset\")[\"r2_zero_test\"].agg(['mean', 'median', 'std']).reset_index()\n",
    "\n",
    "# Sort algorithms by median r2_zero_test score\n",
    "algorithm_stats = algorithm_stats.sort_values(by=\"median\", ascending=False).reset_index(drop=True)\n",
    "\n",
    "print(algorithm_stats)"
   ]
  },
  {
   "cell_type": "code",
   "execution_count": 20,
   "metadata": {},
   "outputs": [],
   "source": [
    "r2_tests = np.concatenate(r2_tests).ravel()\n",
    "# print(r2_tests)"
   ]
  },
  {
   "cell_type": "code",
   "execution_count": 21,
   "metadata": {},
   "outputs": [
    {
     "name": "stdout",
     "output_type": "stream",
     "text": [
      "Mean test R2 =  0.6432775284276235\n"
     ]
    }
   ],
   "source": [
    "print(\"Mean test R2 = \", r2_tests.mean().item())"
   ]
  },
  {
   "cell_type": "code",
   "execution_count": 22,
   "metadata": {},
   "outputs": [
    {
     "data": {
      "text/plain": [
       "0.3599655834629445"
      ]
     },
     "execution_count": 22,
     "metadata": {},
     "output_type": "execute_result"
    }
   ],
   "source": [
    "r2_tests.std().item()"
   ]
  },
  {
   "cell_type": "code",
   "execution_count": 23,
   "metadata": {},
   "outputs": [
    {
     "name": "stdout",
     "output_type": "stream",
     "text": [
      "Median test R2 =  0.7481701082437232\n"
     ]
    }
   ],
   "source": [
    "print(\"Median test R2 = \", np.median(r2_tests).item())"
   ]
  },
  {
   "cell_type": "code",
   "execution_count": 24,
   "metadata": {},
   "outputs": [
    {
     "name": "stdout",
     "output_type": "stream",
     "text": [
      "| dataset                       |     mean |   median |        std |\n",
      "|:------------------------------|---------:|---------:|-----------:|\n",
      "| 527_analcatdata_election2000  | 0.995885 | 0.998556 | 0.00484857 |\n",
      "| 663_rabe_266                  | 0.994959 | 0.995115 | 0.00137354 |\n",
      "| 560_bodyfat                   | 0.858423 | 0.989548 | 0.397481   |\n",
      "| 505_tecator                   | 0.987277 | 0.986499 | 0.00363255 |\n",
      "| 561_cpu                       | 0.932056 | 0.980248 | 0.11427    |\n",
      "| 690_visualizing_galaxy        | 0.963504 | 0.962481 | 0.00885051 |\n",
      "| 227_cpu_small                 | 0.948131 | 0.94701  | 0.00589332 |\n",
      "| 197_cpu_act                   | 0.946148 | 0.945909 | 0.00897869 |\n",
      "| 523_analcatdata_neavote       | 0.936577 | 0.943564 | 0.0278365  |\n",
      "| 230_machine_cpu               | 0.636093 | 0.879896 | 0.650444   |\n",
      "| 1096_FacultySalaries          | 0.657977 | 0.872021 | 0.523762   |\n",
      "| 556_analcatdata_apnea2        | 0.870681 | 0.871478 | 0.0228258  |\n",
      "| 1027_ESL                      | 0.857537 | 0.861532 | 0.0200755  |\n",
      "| 557_analcatdata_apnea1        | 0.815327 | 0.859675 | 0.136672   |\n",
      "| 695_chatfield_4               | 0.850168 | 0.833939 | 0.0390684  |\n",
      "| 229_pwLinear                  | 0.809982 | 0.814269 | 0.0443833  |\n",
      "| 529_pollen                    | 0.787219 | 0.782358 | 0.0118861  |\n",
      "| 210_cloud                     | 0.751867 | 0.777608 | 0.167287   |\n",
      "| 712_chscase_geyser1           | 0.753083 | 0.747309 | 0.0555281  |\n",
      "| 503_wind                      | 0.744326 | 0.743439 | 0.0114448  |\n",
      "| 519_vinnie                    | 0.728474 | 0.72514  | 0.0351015  |\n",
      "| 228_elusage                   | 0.654544 | 0.722935 | 0.203839   |\n",
      "| 225_puma8NH                   | 0.669281 | 0.664686 | 0.0133688  |\n",
      "| 666_rmftsa_ladata             | 0.665445 | 0.651334 | 0.0758558  |\n",
      "| 1089_USCrime                  | 0.644311 | 0.642937 | 0.181741   |\n",
      "| 659_sleuth_ex1714             | 0.51185  | 0.59034  | 0.323231   |\n",
      "| 706_sleuth_case1202           | 0.42892  | 0.589932 | 0.419211   |\n",
      "| 1029_LEV                      | 0.552535 | 0.540238 | 0.0347917  |\n",
      "| 547_no2                       | 0.490568 | 0.475128 | 0.0811759  |\n",
      "| 192_vineyard                  | 0.319696 | 0.379204 | 0.343057   |\n",
      "| 1030_ERA                      | 0.381877 | 0.37612  | 0.0449381  |\n",
      "| 1028_SWD                      | 0.325653 | 0.320295 | 0.0510172  |\n",
      "| 678_visualizing_environmental | 0.158681 | 0.266184 | 0.22816    |\n",
      "| 687_sleuth_ex1605             | 0.124557 | 0.25229  | 0.431434   |\n",
      "| 665_sleuth_case2002           | 0.189768 | 0.224279 | 0.260591   |\n",
      "| 485_analcatdata_vehicle       | 0.172361 | 0.218689 | 0.55773    |\n",
      "| 542_pollution                 | 0.121769 | 0.205069 | 0.469192   |\n",
      "| 522_pm10                      | 0.207036 | 0.183038 | 0.056957   |\n"
     ]
    }
   ],
   "source": [
    "# Convert the DataFrame to Markdown\n",
    "markdown_table = algorithm_stats.to_markdown(index=False)\n",
    "\n",
    "# Print the Markdown table\n",
    "print(markdown_table)\n",
    "\n",
    "# Save the Markdown table to a file\n",
    "with open('table.md', 'w') as file:\n",
    "    file.write(markdown_table)\n"
   ]
  },
  {
   "cell_type": "code",
   "execution_count": null,
   "metadata": {},
   "outputs": [],
   "source": []
  }
 ],
 "metadata": {
  "kernelspec": {
   "display_name": "alpine",
   "language": "python",
   "name": "python3"
  },
  "language_info": {
   "codemirror_mode": {
    "name": "ipython",
    "version": 3
   },
   "file_extension": ".py",
   "mimetype": "text/x-python",
   "name": "python",
   "nbconvert_exporter": "python",
   "pygments_lexer": "ipython3",
   "version": "3.12.0"
  }
 },
 "nbformat": 4,
 "nbformat_minor": 2
}
